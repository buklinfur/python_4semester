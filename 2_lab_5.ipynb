{
 "cells": [
  {
   "cell_type": "code",
   "execution_count": 1,
   "metadata": {},
   "outputs": [],
   "source": [
    "# %pip install torch pymystem3 matplotlib lgbt"
   ]
  },
  {
   "cell_type": "code",
   "execution_count": 1,
   "metadata": {},
   "outputs": [],
   "source": [
    "import torch\n",
    "import torch.nn as nn\n",
    "import re\n",
    "from lgbt import lgbt\n",
    "from pymystem3 import Mystem\n",
    "import matplotlib.pyplot as plt\n",
    "from collections import defaultdict\n",
    "# from collections import Counter"
   ]
  },
  {
   "cell_type": "code",
   "execution_count": 2,
   "metadata": {},
   "outputs": [
    {
     "name": "stdout",
     "output_type": "stream",
     "text": [
      "Using device: cpu\n"
     ]
    }
   ],
   "source": [
    "device = torch.device(\"cpu\")\n",
    "print(f\"Using device: {device}\")\n",
    "\n",
    "epochs = 10"
   ]
  },
  {
   "cell_type": "code",
   "execution_count": 3,
   "metadata": {},
   "outputs": [
    {
     "name": "stdout",
     "output_type": "stream",
     "text": [
      "Всего примеров: 187222\n",
      "Размеры выборок: Train=149777, Val=9361, Test=28084\n"
     ]
    }
   ],
   "source": [
    "text = open(\"The_Fellowship_Of_The_Ring.txt\", \"r\").read()\n",
    "text = text.replace(\"\\n\", \" \")\n",
    "text = re.sub(r'[^a-z@# ]', '', text.lower())\n",
    "text = re.sub(r'[0-9]', ' ', text)\n",
    "\n",
    "m = Mystem()\n",
    "lemmatized = m.lemmatize(text)\n",
    "text = ''.join(lemmatized)\n",
    "\n",
    "sentences = text.split('.')\n",
    "window_size = 2\n",
    "\n",
    "words = []\n",
    "for sentence in sentences:\n",
    "    if len(sentence) >= window_size * 2 + 1:\n",
    "        clean_sentence = re.sub(r'\\W+', ' ', sentence).strip()\n",
    "        if clean_sentence:\n",
    "            spl = clean_sentence.split()\n",
    "            words.append(spl)\n",
    "\n",
    "word_dict = {}\n",
    "index = 0\n",
    "for sentence in words:\n",
    "    for word in sentence:\n",
    "        if word not in word_dict:\n",
    "            word_dict[word] = index\n",
    "            index += 1\n",
    "\n",
    "bacov = {v: k for k, v in word_dict.items()}\n",
    "\n",
    "dataset = []\n",
    "for sentence in words:\n",
    "    for i in range(window_size, len(sentence) - window_size):\n",
    "        target_word = sentence[i]\n",
    "        context_words = (\n",
    "            sentence[i - window_size : i] + \n",
    "            sentence[i + 1 : i + window_size + 1]\n",
    "        )\n",
    "        \n",
    "        try:\n",
    "            dataset.append((\n",
    "                torch.tensor(word_dict[target_word]),\n",
    "                torch.tensor([word_dict[w] for w in context_words])\n",
    "            ))\n",
    "        except KeyError as e:\n",
    "            print(f\"Пропущено слово: {e}\")\n",
    "            continue\n",
    "\n",
    "total = len(dataset)\n",
    "train_size = int(0.8 * total)\n",
    "val_size = int(0.05 * total)\n",
    "\n",
    "indices = torch.randperm(total)\n",
    "train = [dataset[i] for i in indices[:train_size]]\n",
    "validation = [dataset[i] for i in indices[train_size:train_size+val_size]]\n",
    "test = [dataset[i] for i in indices[train_size+val_size:]]\n",
    "\n",
    "print(f\"Всего примеров: {total}\")\n",
    "print(f\"Размеры выборок: Train={len(train)}, Val={len(validation)}, Test={len(test)}\")"
   ]
  },
  {
   "cell_type": "code",
   "execution_count": 7,
   "metadata": {},
   "outputs": [],
   "source": [
    "def train_model (model, optimizer, criterion, train_data):\n",
    "    losses = []\n",
    "    for epoch in range(epochs):\n",
    "        cnt = 0\n",
    "        loss_epoch = 0\n",
    "\n",
    "        train_bar = lgbt(train_data, desc=f'Epoch {epoch+1}', hero = 'kitten')\n",
    "\n",
    "        for pair in train_bar:\n",
    "            optimizer.zero_grad()\n",
    "\n",
    "            # output = model.forward(pair[1].to(device))\n",
    "            # loss = criterion(output,pair[0].to(device))\n",
    "\n",
    "            output = model.forward(pair[0].to(device))\n",
    "            loss = criterion(output,pair[1].to(device))\n",
    "            \n",
    "            loss.backward()\n",
    "\n",
    "            optimizer.step()\n",
    "            loss_epoch += loss.item()\n",
    "            cnt += 1\n",
    "\n",
    "        loss_epoch /= cnt\n",
    "        losses.append(loss_epoch)\n",
    "        print(f'Epoch {epoch+1}/{epochs}: Loss train = {loss_epoch}') \n",
    "    return losses"
   ]
  },
  {
   "cell_type": "code",
   "execution_count": 8,
   "metadata": {},
   "outputs": [],
   "source": [
    "def plot_losses (arr):\n",
    "    plt.figure()\n",
    "    plt.plot(arr)\n",
    "    plt.title('Train Loss')\n",
    "    plt.xlabel('Epochs')\n",
    "    plt.ylabel('Loss')"
   ]
  },
  {
   "cell_type": "code",
   "execution_count": 9,
   "metadata": {},
   "outputs": [],
   "source": [
    "def summarize(word1, word2, dict):\n",
    "    cos = nn.CosineSimilarity(dim=0, eps=1e-6)\n",
    "    UK_RF_148 = dict[word1] + dict[word2]\n",
    "    mindist = 1000000000\n",
    "    cnt = 0\n",
    "    for word in dict.keys():\n",
    "        if cos(dict[word],UK_RF_148) < mindist:\n",
    "            mindist = cos(dict[word],UK_RF_148)\n",
    "            mini = word\n",
    "        cnt+=1\n",
    "    return mini"
   ]
  },
  {
   "cell_type": "code",
   "execution_count": 10,
   "metadata": {},
   "outputs": [],
   "source": [
    "def get_closest(vec, dict):\n",
    "    cos = nn.CosineSimilarity(dim=0, eps=1e-6)\n",
    "    mindist = 1000000000\n",
    "    for word in dict.keys():\n",
    "        if cos(dict[word],vec) < mindist:\n",
    "            mindist = cos(dict[word],vec)\n",
    "            mini = word\n",
    "    return mini"
   ]
  },
  {
   "cell_type": "code",
   "execution_count": 17,
   "metadata": {},
   "outputs": [],
   "source": [
    "dataset = []\n",
    "\n",
    "for sentence in words:\n",
    "    for i in range(window_size,len(sentence)-window_size):\n",
    "        target = torch.zeros(len(word_dict))\n",
    "        target[word_dict[sentence[i]]] = 1\n",
    "        target = target.type(torch.LongTensor)\n",
    "        context = []\n",
    "        for j in range(i-window_size,i+window_size+1):\n",
    "            if j == i:\n",
    "                continue\n",
    "            context.append(word_dict[sentence[j]])\n",
    "        context = torch.tensor(context)\n",
    "        dataset.append((target,context))\n",
    "\n",
    "\n",
    "pivot = int(0.8*len(dataset))\n",
    "train = dataset[:pivot]\n",
    "test = dataset[pivot:]\n",
    "\n",
    "pivot = int(0.05*len(dataset))\n",
    "validation = test[:pivot]\n",
    "test = test[pivot:]"
   ]
  },
  {
   "cell_type": "code",
   "execution_count": 18,
   "metadata": {},
   "outputs": [],
   "source": [
    "class Word2VecCBOWModel(nn.Module):\n",
    "    def __init__(self, vocab_size, embedding_dim):\n",
    "        super(Word2VecCBOWModel, self).__init__()\n",
    "        self.embeddings = nn.Embedding(vocab_size, embedding_dim)\n",
    "        self.out_layer = nn.Linear(embedding_dim, vocab_size)\n",
    "        self.activation_function = nn.LogSoftmax(dim=0)\n",
    "\n",
    "    def forward(self, center_word_idx):\n",
    "        hidden_layer = torch.mean(self.embeddings(center_word_idx), dim=1)\n",
    "        out_layer = self.out_layer(hidden_layer)\n",
    "        log_probs = self.activation_function(out_layer)\n",
    "        return log_probs"
   ]
  },
  {
   "cell_type": "code",
   "execution_count": 19,
   "metadata": {},
   "outputs": [],
   "source": [
    "w2v_cbow = Word2VecCBOWModel(len(word_dict),window_size*2).to(device)\n",
    "criterion = nn.NLLLoss().to(device)\n",
    "optimizer = torch.optim.SGD(w2v_cbow.parameters(), lr=0.001)"
   ]
  },
  {
   "cell_type": "code",
   "execution_count": 20,
   "metadata": {},
   "outputs": [
    {
     "name": "stdout",
     "output_type": "stream",
     "text": [
      "🐱Epoch 1     :\u001b[35m100% \u001b[31m▋▋▋▋▋▋▋▋\u001b[38;5;214m▋▋▋▋▋▋▋▋\u001b[33m▋▋▋▋▋▋▋▋\u001b[32m▋▋▋▋▋▋▋▋\u001b[36m▋▋▋▋▋▋▋▋\u001b[34m▋▋▋▋▋▋▋▋\u001b[35m▋▋▋▋▋▋▋▋\u001b[35m[149760/149777] [52.45s, 2855.33it/s]  \u001b[m6it/s]  \u001b[m\n",
      "Epoch 1/10: Loss train = 0.3452923466375702\n",
      "🐱Epoch 2     :\u001b[35m100% \u001b[31m▋▋▋▋▋▋▋▋\u001b[38;5;214m▋▋▋▋▋▋▋▋\u001b[33m▋▋▋▋▋▋▋▋\u001b[32m▋▋▋▋▋▋▋▋\u001b[36m▋▋▋▋▋▋▋▋\u001b[34m▋▋▋▋▋▋▋▋\u001b[35m▋▋▋▋▋▋▋▋\u001b[35m[149760/149777] [51.77s, 2892.57it/s]  \u001b[m6it/s]  \u001b[m\n",
      "Epoch 2/10: Loss train = 0.045304009404466765\n",
      "🐱Epoch 3     :\u001b[35m100% \u001b[31m▋▋▋▋▋▋▋▋\u001b[38;5;214m▋▋▋▋▋▋▋▋\u001b[33m▋▋▋▋▋▋▋▋\u001b[32m▋▋▋▋▋▋▋▋\u001b[36m▋▋▋▋▋▋▋▋\u001b[34m▋▋▋▋▋▋▋▋\u001b[35m▋▋▋▋▋▋▋▋\u001b[35m[149760/149777] [52.03s, 2878.09it/s]  \u001b[m0it/s]  \u001b[m\n",
      "Epoch 3/10: Loss train = 0.04288792062595249\n",
      "🐱Epoch 4     :\u001b[35m100% \u001b[31m▋▋▋▋▋▋▋▋\u001b[38;5;214m▋▋▋▋▋▋▋▋\u001b[33m▋▋▋▋▋▋▋▋\u001b[32m▋▋▋▋▋▋▋▋\u001b[36m▋▋▋▋▋▋▋▋\u001b[34m▋▋▋▋▋▋▋▋\u001b[35m▋▋▋▋▋▋▋▋\u001b[35m[149760/149777] [51.85s, 2888.47it/s]  \u001b[m9it/s]  \u001b[m\n",
      "Epoch 4/10: Loss train = 0.04124278251411471\n",
      "🐱Epoch 5     :\u001b[35m100% \u001b[31m▋▋▋▋▋▋▋▋\u001b[38;5;214m▋▋▋▋▋▋▋▋\u001b[33m▋▋▋▋▋▋▋▋\u001b[32m▋▋▋▋▋▋▋▋\u001b[36m▋▋▋▋▋▋▋▋\u001b[34m▋▋▋▋▋▋▋▋\u001b[35m▋▋▋▋▋▋▋▋\u001b[35m[149760/149777] [52.01s, 2879.53it/s]  \u001b[m7it/s]  \u001b[m\n",
      "Epoch 5/10: Loss train = 0.03976328190282142\n",
      "🐱Epoch 6     :\u001b[35m100% \u001b[31m▋▋▋▋▋▋▋▋\u001b[38;5;214m▋▋▋▋▋▋▋▋\u001b[33m▋▋▋▋▋▋▋▋\u001b[32m▋▋▋▋▋▋▋▋\u001b[36m▋▋▋▋▋▋▋▋\u001b[34m▋▋▋▋▋▋▋▋\u001b[35m▋▋▋▋▋▋▋▋\u001b[35m[149760/149777] [52.18s, 2870.04it/s]  \u001b[m9it/s]  \u001b[m\n",
      "Epoch 6/10: Loss train = 0.03833648106578496\n",
      "🐱Epoch 7     :\u001b[35m100% \u001b[31m▋▋▋▋▋▋▋▋\u001b[38;5;214m▋▋▋▋▋▋▋▋\u001b[33m▋▋▋▋▋▋▋▋\u001b[32m▋▋▋▋▋▋▋▋\u001b[36m▋▋▋▋▋▋▋▋\u001b[34m▋▋▋▋▋▋▋▋\u001b[35m▋▋▋▋▋▋▋▋\u001b[35m[149760/149777] [52.11s, 2874.01it/s]  \u001b[m6it/s]  \u001b[m\n",
      "Epoch 7/10: Loss train = 0.03693044883368802\n",
      "🐱Epoch 8     :\u001b[35m100% \u001b[31m▋▋▋▋▋▋▋▋\u001b[38;5;214m▋▋▋▋▋▋▋▋\u001b[33m▋▋▋▋▋▋▋▋\u001b[32m▋▋▋▋▋▋▋▋\u001b[36m▋▋▋▋▋▋▋▋\u001b[34m▋▋▋▋▋▋▋▋\u001b[35m▋▋▋▋▋▋▋▋\u001b[35m[149760/149777] [51.96s, 2882.43it/s]  \u001b[m8it/s]  \u001b[m\n",
      "Epoch 8/10: Loss train = 0.035534419611962985\n",
      "🐱Epoch 9     :\u001b[35m100% \u001b[31m▋▋▋▋▋▋▋▋\u001b[38;5;214m▋▋▋▋▋▋▋▋\u001b[33m▋▋▋▋▋▋▋▋\u001b[32m▋▋▋▋▋▋▋▋\u001b[36m▋▋▋▋▋▋▋▋\u001b[34m▋▋▋▋▋▋▋▋\u001b[35m▋▋▋▋▋▋▋▋\u001b[35m[149760/149777] [52.36s, 2860.05it/s]  \u001b[m4it/s]  \u001b[m\n",
      "Epoch 9/10: Loss train = 0.034144519396072034\n",
      "🐱Epoch 10    :\u001b[35m100% \u001b[31m▋▋▋▋▋▋▋▋\u001b[38;5;214m▋▋▋▋▋▋▋▋\u001b[33m▋▋▋▋▋▋▋▋\u001b[32m▋▋▋▋▋▋▋▋\u001b[36m▋▋▋▋▋▋▋▋\u001b[34m▋▋▋▋▋▋▋▋\u001b[35m▋▋▋▋▋▋▋▋\u001b[35m[149760/149777] [52.31s, 2862.95it/s]  \u001b[m3it/s]  \u001b[m\n",
      "Epoch 10/10: Loss train = 0.03276068233070464\n"
     ]
    }
   ],
   "source": [
    "loss_arr = train_model (w2v_cbow, optimizer, criterion, train)"
   ]
  },
  {
   "cell_type": "code",
   "execution_count": 21,
   "metadata": {},
   "outputs": [
    {
     "data": {
      "image/png": "[encoded data removed]",
      "text/plain": [
       "<Figure size 640x480 with 1 Axes>"
      ]
     },
     "metadata": {},
     "output_type": "display_data"
    }
   ],
   "source": [
    "plot_losses (loss_arr)"
   ]
  },
  {
   "cell_type": "code",
   "execution_count": null,
   "metadata": {},
   "outputs": [],
   "source": [
    "torch.save(w2v_cbow, \"w2v_cbow.pth\")"
   ]
  },
  {
   "cell_type": "code",
   "execution_count": 22,
   "metadata": {},
   "outputs": [],
   "source": [
    "model = torch.load(\"w2v_cbow.pth\", weights_only=False)"
   ]
  },
  {
   "cell_type": "code",
   "execution_count": 23,
   "metadata": {},
   "outputs": [],
   "source": [
    "out = model.forward(train[0][1].to(device))\n",
    "\n",
    "embeddings = model.embeddings.weight.data.cpu()\n",
    "w2v_dict = {bacov[ix]: embeddings[ix] for ix in range(len(word_dict))}\n",
    "\n",
    "# w2v_dict.keys()"
   ]
  },
  {
   "cell_type": "code",
   "execution_count": 24,
   "metadata": {},
   "outputs": [
    {
     "name": "stdout",
     "output_type": "stream",
     "text": [
      "preparing\n",
      "chaered\n",
      "inaudible\n",
      "fled\n",
      "prying\n",
      "benevolent\n"
     ]
    }
   ],
   "source": [
    "print (summarize ('beauty', 'change', w2v_dict),\n",
    "       summarize ('beautiful', 'colour', w2v_dict), \n",
    "       summarize ('till', 'never', w2v_dict),\n",
    "       summarize ('really', 'shines', w2v_dict),\n",
    "       summarize ('anxiety', 'judge', w2v_dict),\n",
    "       get_closest (w2v_dict['back'] + w2v_dict['vanish'], w2v_dict),\n",
    "       sep='\\n')"
   ]
  },
  {
   "cell_type": "code",
   "execution_count": 17,
   "metadata": {},
   "outputs": [
    {
     "name": "stdout",
     "output_type": "stream",
     "text": [
      "Using device: cuda\n"
     ]
    }
   ],
   "source": [
    "device = torch.device(\"cuda\")\n",
    "print(f\"Using device: {device}\")"
   ]
  },
  {
   "cell_type": "code",
   "execution_count": 12,
   "metadata": {},
   "outputs": [],
   "source": [
    "dataset2 = []\n",
    "\n",
    "for sentence in words:\n",
    "    for i in range(window_size,len(sentence)-window_size):\n",
    "        target = torch.tensor(word_dict[sentence[i]])\n",
    "        context = torch.zeros(len(word_dict))\n",
    "\n",
    "        for j in range(i-window_size,i+window_size+1):\n",
    "            if j == i:\n",
    "                continue\n",
    "            context[word_dict[sentence[j]]] = 1\n",
    "\n",
    "        context = context.type(torch.LongTensor)\n",
    "        dataset2.append((target,context))\n",
    "\n",
    "pivot = int(0.8*len(dataset2))\n",
    "train = dataset2[:pivot]\n",
    "test = dataset2[pivot:]\n",
    "\n",
    "pivot = int(0.05*len(dataset2))\n",
    "validation = test[:pivot]\n",
    "test = test[pivot:]"
   ]
  },
  {
   "cell_type": "code",
   "execution_count": 18,
   "metadata": {},
   "outputs": [],
   "source": [
    "class Word2VecSkipGramModel(nn.Module):\n",
    "    def __init__(self, vocab_size, embedding_dim):\n",
    "        super(Word2VecSkipGramModel, self).__init__()\n",
    "        self.embeddings = nn.Embedding(vocab_size, embedding_dim)\n",
    "        self.out_layer = nn.Linear(embedding_dim, vocab_size)\n",
    "        self.activation_function = nn.LogSoftmax(dim=-1)\n",
    "\n",
    "    def forward(self, center_word_idx):\n",
    "        hidden_layer = self.embeddings(center_word_idx)\n",
    "        out_layer = self.out_layer(hidden_layer)\n",
    "        log_probs = self.activation_function(out_layer)\n",
    "        return log_probs"
   ]
  },
  {
   "cell_type": "code",
   "execution_count": 19,
   "metadata": {},
   "outputs": [],
   "source": [
    "w2v_SGM = Word2VecSkipGramModel(len(word_dict),4).cuda()\n",
    "criterion = nn.NLLLoss().cuda()\n",
    "optimizer = torch.optim.SGD(w2v_SGM.parameters(), lr=0.05)"
   ]
  },
  {
   "cell_type": "code",
   "execution_count": 20,
   "metadata": {},
   "outputs": [
    {
     "name": "stdout",
     "output_type": "stream",
     "text": [
      "🐱Epoch 1     :\u001b[35m100% \u001b[31m▋▋▋▋▋▋▋▋\u001b[38;5;214m▋▋▋▋▋▋▋▋\u001b[33m▋▋▋▋▋▋▋▋\u001b[32m▋▋▋▋▋▋▋▋\u001b[36m▋▋▋▋▋▋▋▋\u001b[34m▋▋▋▋▋▋▋▋\u001b[35m▋▋▋▋▋▋▋▋\u001b[35m[149760/149777] [149.41s, 1002.36it/s]  \u001b[mit/s]  \u001b[m\n",
      "Epoch 1/10: Loss train = 0.07669831935653529\n",
      "🐱Epoch 2     :\u001b[35m100% \u001b[31m▋▋▋▋▋▋▋▋\u001b[38;5;214m▋▋▋▋▋▋▋▋\u001b[33m▋▋▋▋▋▋▋▋\u001b[32m▋▋▋▋▋▋▋▋\u001b[36m▋▋▋▋▋▋▋▋\u001b[34m▋▋▋▋▋▋▋▋\u001b[35m▋▋▋▋▋▋▋▋\u001b[35m[149760/149777] [152.29s, 983.37it/s]  \u001b[mit/s]  \u001b[mm\n",
      "Epoch 2/10: Loss train = 0.06273658491144286\n",
      "🐱Epoch 3     :\u001b[35m100% \u001b[31m▋▋▋▋▋▋▋▋\u001b[38;5;214m▋▋▋▋▋▋▋▋\u001b[33m▋▋▋▋▋▋▋▋\u001b[32m▋▋▋▋▋▋▋▋\u001b[36m▋▋▋▋▋▋▋▋\u001b[34m▋▋▋▋▋▋▋▋\u001b[35m▋▋▋▋▋▋▋▋\u001b[35m[149760/149777] [154.62s, 968.56it/s]  \u001b[mit/s]  \u001b[m\n",
      "Epoch 3/10: Loss train = 0.062433078126184836\n",
      "🐱Epoch 4     :\u001b[35m100% \u001b[31m▋▋▋▋▋▋▋▋\u001b[38;5;214m▋▋▋▋▋▋▋▋\u001b[33m▋▋▋▋▋▋▋▋\u001b[32m▋▋▋▋▋▋▋▋\u001b[36m▋▋▋▋▋▋▋▋\u001b[34m▋▋▋▋▋▋▋▋\u001b[35m▋▋▋▋▋▋▋▋\u001b[35m[149760/149777] [153.13s, 978.00it/s]  \u001b[mit/s]  \u001b[m\n",
      "Epoch 4/10: Loss train = 0.06215205495562411\n",
      "🐱Epoch 5     :\u001b[35m100% \u001b[31m▋▋▋▋▋▋▋▋\u001b[38;5;214m▋▋▋▋▋▋▋▋\u001b[33m▋▋▋▋▋▋▋▋\u001b[32m▋▋▋▋▋▋▋▋\u001b[36m▋▋▋▋▋▋▋▋\u001b[34m▋▋▋▋▋▋▋▋\u001b[35m▋▋▋▋▋▋▋▋\u001b[35m[149760/149777] [149.25s, 1003.44it/s]  \u001b[mit/s]  \u001b[m\n",
      "Epoch 5/10: Loss train = 0.06186827092460371\n",
      "🐱Epoch 6     :\u001b[35m100% \u001b[31m▋▋▋▋▋▋▋▋\u001b[38;5;214m▋▋▋▋▋▋▋▋\u001b[33m▋▋▋▋▋▋▋▋\u001b[32m▋▋▋▋▋▋▋▋\u001b[36m▋▋▋▋▋▋▋▋\u001b[34m▋▋▋▋▋▋▋▋\u001b[35m▋▋▋▋▋▋▋▋\u001b[35m[149760/149777] [146.49s, 1022.36it/s]  \u001b[mit/s]  \u001b[m\n",
      "Epoch 6/10: Loss train = 0.06158887253655677\n",
      "🐱Epoch 7     :\u001b[35m100% \u001b[31m▋▋▋▋▋▋▋▋\u001b[38;5;214m▋▋▋▋▋▋▋▋\u001b[33m▋▋▋▋▋▋▋▋\u001b[32m▋▋▋▋▋▋▋▋\u001b[36m▋▋▋▋▋▋▋▋\u001b[34m▋▋▋▋▋▋▋▋\u001b[35m▋▋▋▋▋▋▋▋\u001b[35m[149760/149777] [143.66s, 1042.50it/s]  \u001b[mit/s]  \u001b[m\n",
      "Epoch 7/10: Loss train = 0.06131760232794532\n",
      "🐱Epoch 8     :\u001b[35m100% \u001b[31m▋▋▋▋▋▋▋▋\u001b[38;5;214m▋▋▋▋▋▋▋▋\u001b[33m▋▋▋▋▋▋▋▋\u001b[32m▋▋▋▋▋▋▋▋\u001b[36m▋▋▋▋▋▋▋▋\u001b[34m▋▋▋▋▋▋▋▋\u001b[35m▋▋▋▋▋▋▋▋\u001b[35m[149760/149777] [161.18s, 929.13it/s]  \u001b[mit/s]  \u001b[mm\n",
      "Epoch 8/10: Loss train = 0.061051356917208054\n",
      "🐱Epoch 9     :\u001b[35m100% \u001b[31m▋▋▋▋▋▋▋▋\u001b[38;5;214m▋▋▋▋▋▋▋▋\u001b[33m▋▋▋▋▋▋▋▋\u001b[32m▋▋▋▋▋▋▋▋\u001b[36m▋▋▋▋▋▋▋▋\u001b[34m▋▋▋▋▋▋▋▋\u001b[35m▋▋▋▋▋▋▋▋\u001b[35m[149760/149777] [168.09s, 890.93it/s]  \u001b[mit/s]  \u001b[m\n",
      "Epoch 9/10: Loss train = 0.060787453157162726\n",
      "🐱Epoch 10    :\u001b[35m100% \u001b[31m▋▋▋▋▋▋▋▋\u001b[38;5;214m▋▋▋▋▋▋▋▋\u001b[33m▋▋▋▋▋▋▋▋\u001b[32m▋▋▋▋▋▋▋▋\u001b[36m▋▋▋▋▋▋▋▋\u001b[34m▋▋▋▋▋▋▋▋\u001b[35m▋▋▋▋▋▋▋▋\u001b[35m[149760/149777] [166.57s, 899.09it/s]  \u001b[mit/s]  \u001b[m\n",
      "Epoch 10/10: Loss train = 0.06052493520184645\n"
     ]
    }
   ],
   "source": [
    "loss_arr = train_model (w2v_SGM, optimizer, criterion, train)"
   ]
  },
  {
   "cell_type": "code",
   "execution_count": 21,
   "metadata": {},
   "outputs": [
    {
     "data": {
      "image/png": "[encoded data removed]",
      "text/plain": [
       "<Figure size 640x480 with 1 Axes>"
      ]
     },
     "metadata": {},
     "output_type": "display_data"
    }
   ],
   "source": [
    "plot_losses (loss_arr)"
   ]
  },
  {
   "cell_type": "code",
   "execution_count": 22,
   "metadata": {},
   "outputs": [],
   "source": [
    "torch.save(w2v_SGM, \"w2v_SGM.pth\")"
   ]
  },
  {
   "cell_type": "code",
   "execution_count": 27,
   "metadata": {},
   "outputs": [],
   "source": [
    "model2 = torch.load(\"w2v_SGM.pth\", weights_only=False)"
   ]
  },
  {
   "cell_type": "code",
   "execution_count": 28,
   "metadata": {},
   "outputs": [],
   "source": [
    "embeddings2 = model2.embeddings.weight.data.cpu()\n",
    "w2v_dict2 = {bacov[ix]: embeddings2[ix] for ix in range(len(word_dict))}\n",
    "\n",
    "# w2v_dict2.keys()"
   ]
  },
  {
   "cell_type": "code",
   "execution_count": 29,
   "metadata": {},
   "outputs": [
    {
     "name": "stdout",
     "output_type": "stream",
     "text": [
      "hollows\n",
      "becomes\n",
      "lofty\n",
      "beggars\n",
      "tuckborough\n",
      "pretended\n"
     ]
    }
   ],
   "source": [
    "print (summarize ('beauty', 'change', w2v_dict2),\n",
    "       summarize ('beautiful', 'colour', w2v_dict2), \n",
    "       summarize ('till', 'never', w2v_dict2),\n",
    "       summarize ('really', 'shines', w2v_dict2),\n",
    "       summarize ('anxiety', 'judge', w2v_dict2),\n",
    "       get_closest (w2v_dict2['back'] + w2v_dict2['vanish'], w2v_dict2),\n",
    "       sep='\\n')"
   ]
  }
 ],
 "metadata": {
  "kernelspec": {
   "display_name": ".venv",
   "language": "python",
   "name": "python3"
  },
  "language_info": {
   "codemirror_mode": {
    "name": "ipython",
    "version": 3
   },
   "file_extension": ".py",
   "mimetype": "text/x-python",
   "name": "python",
   "nbconvert_exporter": "python",
   "pygments_lexer": "ipython3",
   "version": "3.12.3"
  }
 },
 "nbformat": 4,
 "nbformat_minor": 2
}
